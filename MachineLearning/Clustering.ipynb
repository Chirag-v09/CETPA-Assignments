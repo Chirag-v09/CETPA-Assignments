{
 "cells": [
  {
   "cell_type": "markdown",
   "metadata": {},
   "source": [
    "# Introduction\n",
    "It is basically a type of unsupervised learning method . An unsupervised learning method is a method in which we draw references from datasets consisting of input data without labeled responses. "
   ]
  },
  {
   "cell_type": "markdown",
   "metadata": {},
   "source": [
    "“Clustering” is the process of grouping similar entities together. The goal of this unsupervised machine learning technique is to find similarities in the data point and group similar data points together."
   ]
  },
  {
   "cell_type": "markdown",
   "metadata": {},
   "source": [
    "# How does Clustering algorithms work?"
   ]
  },
  {
   "cell_type": "markdown",
   "metadata": {},
   "source": [
    "There are many algorithms developed to implement this technique but for this post, let’s stick the most popular and widely used algorithms in machine learning.\n",
    "\n",
    " 1.K-mean Clustering\n",
    "\n",
    "2. Hierarchical Clustering"
   ]
  },
  {
   "cell_type": "markdown",
   "metadata": {},
   "source": [
    "K-mean Clustering\n",
    "\n",
    "  1.  It starts with K as the input which is how many clusters you want to find. Place K centroids in random locations in your    space.\n",
    "  2.  Now, using the euclidean distance between data points and centroids, assign each data point to the cluster which is close to it.\n",
    "  3.  Recalculate the cluster centers as a mean of data points assigned to it.\n",
    "   4. Repeat 2 and 3 until no further changes occur."
   ]
  },
  {
   "cell_type": "markdown",
   "metadata": {},
   "source": [
    "http://scikit-learn.org/stable/modules/generated/sklearn.datasets.make_blobs.html"
   ]
  },
  {
   "cell_type": "code",
   "execution_count": 1,
   "metadata": {},
   "outputs": [],
   "source": [
    "from sklearn.datasets import make_blobs\n",
    "from sklearn.cluster import KMeans"
   ]
  },
  {
   "cell_type": "code",
   "execution_count": 3,
   "metadata": {},
   "outputs": [
    {
     "data": {
      "text/plain": [
       "(array([[-5.87772629,  7.1173239 ],\n",
       "        [-6.47743428,  6.44106269],\n",
       "        [-7.38401821,  5.60407934],\n",
       "        [-5.61290245,  5.99830387],\n",
       "        [-4.48766667,  5.45393226],\n",
       "        [-6.42775274,  6.46170505],\n",
       "        [-6.5123127 ,  6.74297654],\n",
       "        [-7.44823344,  7.78869174],\n",
       "        [ 2.4338199 , -4.70766673],\n",
       "        [-4.18011183,  7.03523905],\n",
       "        [-3.11034847,  6.92975644],\n",
       "        [ 1.68207257, -5.97333233],\n",
       "        [-0.10706778, -4.99617466],\n",
       "        [-5.49083374,  7.39029224],\n",
       "        [-5.79983552,  6.58332167],\n",
       "        [ 1.34463851, -4.93557897],\n",
       "        [-9.40375588,  7.19626912],\n",
       "        [-3.12177394,  5.88807602],\n",
       "        [-5.89009317,  6.03127957],\n",
       "        [-8.25077329,  8.01759013],\n",
       "        [ 2.61618032, -3.57723263],\n",
       "        [ 0.01505604, -4.16972983],\n",
       "        [-5.64826029,  6.67586851],\n",
       "        [-3.04857047,  7.01930449],\n",
       "        [ 3.64126552, -5.92223883],\n",
       "        [-7.78838128,  6.36711934],\n",
       "        [-3.39708288,  5.29457015],\n",
       "        [-4.46256618,  5.54926322],\n",
       "        [-3.95919313,  5.89798524],\n",
       "        [-1.49643107,  6.45262143],\n",
       "        [-9.29748812,  9.08370002],\n",
       "        [ 2.19499479, -4.55333686],\n",
       "        [-7.65848979,  6.25871956],\n",
       "        [-4.53041513,  5.31180335],\n",
       "        [-7.98733869,  5.62936654],\n",
       "        [ 0.2284885 , -4.37076955],\n",
       "        [-6.94575728,  6.56618721],\n",
       "        [ 2.04668563, -4.5826364 ],\n",
       "        [-0.32173421, -5.48699379],\n",
       "        [-3.35458479,  6.00762422],\n",
       "        [ 1.09082994, -5.03057148],\n",
       "        [-7.57911321,  7.86171382],\n",
       "        [-7.39618011,  7.35872772],\n",
       "        [-3.48842443,  7.38797456],\n",
       "        [-5.44842464,  6.37994241],\n",
       "        [-6.10920572,  5.05276978],\n",
       "        [-8.46715583,  7.05355432],\n",
       "        [-4.97171883,  6.96492132],\n",
       "        [ 2.60849547, -5.03453033],\n",
       "        [-2.64659138,  5.49802021],\n",
       "        [-1.06067407, -5.39626818],\n",
       "        [ 2.29915359, -5.98877553],\n",
       "        [ 1.8914035 , -5.95827182],\n",
       "        [-6.89663231,  8.12197563],\n",
       "        [-3.63486628,  5.42354616],\n",
       "        [-2.76788067,  7.33751765],\n",
       "        [-9.65057748,  7.02359015],\n",
       "        [-7.50948791,  6.70850072],\n",
       "        [-6.40399738,  7.76813132],\n",
       "        [-4.38859534,  6.47960399],\n",
       "        [ 3.16889978, -3.35732912],\n",
       "        [-7.08628721,  5.87751394],\n",
       "        [-5.74730211,  6.50113279],\n",
       "        [-2.38439096,  4.20659965],\n",
       "        [ 2.33493135, -6.16640481],\n",
       "        [-4.94581013,  7.02619002],\n",
       "        [-2.57341934,  6.07510305],\n",
       "        [ 1.23323411, -3.814622  ],\n",
       "        [-4.60572261,  6.73385242],\n",
       "        [ 2.57910882, -4.42303828],\n",
       "        [-3.67758298,  6.38240801],\n",
       "        [-8.00971773,  6.84485707],\n",
       "        [ 1.64480533, -4.10258071],\n",
       "        [ 2.89090413, -5.84281127],\n",
       "        [ 1.7281718 , -5.23512084],\n",
       "        [-8.02458007,  7.04792089],\n",
       "        [ 2.45795508, -6.37952466],\n",
       "        [-2.5599669 ,  5.02458551],\n",
       "        [ 1.18615049, -5.54484081],\n",
       "        [ 3.03696452, -6.43848531],\n",
       "        [-3.54442846,  6.02753035],\n",
       "        [ 2.99123827, -4.45257216],\n",
       "        [-8.60630619,  7.26108789],\n",
       "        [-3.27690188,  5.83870738],\n",
       "        [-8.41484202,  6.94540852],\n",
       "        [ 1.53649478, -6.78280587],\n",
       "        [-3.93326581,  6.40470432],\n",
       "        [-7.55409787,  7.84355529],\n",
       "        [-6.08211698,  7.55585682],\n",
       "        [-3.2376199 ,  5.62812908],\n",
       "        [-3.90257317,  5.69118821],\n",
       "        [ 3.71540976, -6.50908051],\n",
       "        [-4.48449974,  7.15130362],\n",
       "        [-6.76175684,  6.15046819],\n",
       "        [ 2.12674822, -4.15157521],\n",
       "        [ 2.37131371, -3.66198062],\n",
       "        [ 4.40242862, -5.9593195 ],\n",
       "        [ 3.07308201, -4.27463697],\n",
       "        [-5.02653843,  4.89199303],\n",
       "        [-7.73990723,  7.37024789]]),\n",
       " array([1, 1, 1, 0, 0, 1, 1, 1, 2, 0, 0, 2, 2, 0, 1, 2, 1, 0, 0, 1, 2, 2,\n",
       "        0, 0, 2, 1, 0, 0, 0, 0, 1, 2, 1, 0, 1, 2, 1, 2, 2, 0, 2, 1, 1, 0,\n",
       "        1, 1, 1, 0, 2, 0, 2, 2, 2, 1, 0, 0, 1, 1, 1, 0, 2, 1, 1, 0, 2, 0,\n",
       "        0, 2, 0, 2, 0, 1, 2, 2, 2, 1, 2, 0, 2, 2, 0, 2, 1, 0, 1, 2, 0, 1,\n",
       "        1, 0, 0, 2, 0, 1, 2, 2, 2, 2, 0, 1]))"
      ]
     },
     "execution_count": 3,
     "metadata": {},
     "output_type": "execute_result"
    }
   ],
   "source": [
    "mb = make_blobs()\n",
    "mb"
   ]
  },
  {
   "cell_type": "code",
   "execution_count": 4,
   "metadata": {},
   "outputs": [],
   "source": [
    "X,y = make_blobs(random_state=1)#generating synthetic two dimensional data"
   ]
  },
  {
   "cell_type": "code",
   "execution_count": 5,
   "metadata": {},
   "outputs": [
    {
     "data": {
      "text/plain": [
       "KMeans(algorithm='auto', copy_x=True, init='k-means++', max_iter=300,\n",
       "    n_clusters=3, n_init=10, n_jobs=1, precompute_distances='auto',\n",
       "    random_state=None, tol=0.0001, verbose=0)"
      ]
     },
     "execution_count": 5,
     "metadata": {},
     "output_type": "execute_result"
    }
   ],
   "source": [
    "kmeans = KMeans(n_clusters=3) #building the clustering model\n",
    "kmeans.fit(X)"
   ]
  },
  {
   "cell_type": "code",
   "execution_count": 6,
   "metadata": {},
   "outputs": [
    {
     "name": "stdout",
     "output_type": "stream",
     "text": [
      "[1 2 2 2 0 0 0 2 1 1 2 2 0 1 0 0 0 1 2 2 0 2 0 1 2 0 0 1 1 0 1 1 0 1 2 0 2\n",
      " 2 2 0 0 2 1 2 2 0 1 1 1 1 2 0 0 0 1 0 2 2 1 1 2 0 0 2 2 0 1 0 1 2 2 2 0 1\n",
      " 1 2 0 0 1 2 1 2 2 0 1 1 1 1 2 1 0 1 1 2 2 0 0 1 0 1]\n"
     ]
    }
   ],
   "source": [
    "print(kmeans.labels_)"
   ]
  },
  {
   "cell_type": "markdown",
   "metadata": {},
   "source": [
    "Clustering is somewhat similar to classification,in which each item gets a label."
   ]
  }
 ],
 "metadata": {
  "kernelspec": {
   "display_name": "Python 3",
   "language": "python",
   "name": "python3"
  },
  "language_info": {
   "codemirror_mode": {
    "name": "ipython",
    "version": 3
   },
   "file_extension": ".py",
   "mimetype": "text/x-python",
   "name": "python",
   "nbconvert_exporter": "python",
   "pygments_lexer": "ipython3",
   "version": "3.7.1"
  }
 },
 "nbformat": 4,
 "nbformat_minor": 2
}
